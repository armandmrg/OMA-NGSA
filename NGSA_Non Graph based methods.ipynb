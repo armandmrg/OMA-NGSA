{
 "cells": [
  {
   "cell_type": "code",
   "execution_count": 3,
   "metadata": {},
   "outputs": [],
   "source": [
    "import pandas as pd\n",
    "import json\n",
    "import numpy as np\n",
    "import time\n",
    "import matplotlib.pyplot as plt\n",
    "from sklearn.metrics import mean_squared_error\n",
    "from sklearn.metrics import mean_absolute_error"
   ]
  },
  {
   "cell_type": "markdown",
   "metadata": {},
   "source": [
    "## Loading data"
   ]
  },
  {
   "cell_type": "code",
   "execution_count": 4,
   "metadata": {},
   "outputs": [],
   "source": [
    "df_users = pd.read_csv('users_restaurants_illinois_reduced.csv')\n",
    "df_business = pd.read_csv('businesses_restaurants_illinois_reduced.csv')\n",
    "df_ratings = pd.read_csv('ratings_restaurants_illinois_reduced.csv')\n",
    "df_users = df_users.drop(columns=['Unnamed: 0'])\n",
    "df_business = df_business.drop(columns=['Unnamed: 0'])\n",
    "df_ratings = df_ratings.drop(columns=['Unnamed: 0'])"
   ]
  },
  {
   "cell_type": "markdown",
   "metadata": {},
   "source": [
    "## Preprocessing"
   ]
  },
  {
   "cell_type": "markdown",
   "metadata": {},
   "source": [
    "#### Users data preprocessing"
   ]
  },
  {
   "cell_type": "code",
   "execution_count": 5,
   "metadata": {
    "scrolled": true
   },
   "outputs": [
    {
     "data": {
      "text/html": [
       "<div>\n",
       "<style scoped>\n",
       "    .dataframe tbody tr th:only-of-type {\n",
       "        vertical-align: middle;\n",
       "    }\n",
       "\n",
       "    .dataframe tbody tr th {\n",
       "        vertical-align: top;\n",
       "    }\n",
       "\n",
       "    .dataframe thead th {\n",
       "        text-align: right;\n",
       "    }\n",
       "</style>\n",
       "<table border=\"1\" class=\"dataframe\">\n",
       "  <thead>\n",
       "    <tr style=\"text-align: right;\">\n",
       "      <th></th>\n",
       "      <th>user_id</th>\n",
       "      <th>user_name</th>\n",
       "      <th>user_review_count</th>\n",
       "      <th>user_yelp_since</th>\n",
       "      <th>friends</th>\n",
       "      <th>useful_reviews</th>\n",
       "      <th>funny_reviews</th>\n",
       "      <th>cool_reviews</th>\n",
       "      <th>n_fans</th>\n",
       "      <th>years_elite</th>\n",
       "      <th>average_stars</th>\n",
       "    </tr>\n",
       "  </thead>\n",
       "  <tbody>\n",
       "    <tr>\n",
       "      <th>0</th>\n",
       "      <td>4mjnkd8oJVCfBKN3i4rB-g</td>\n",
       "      <td>Tricia</td>\n",
       "      <td>1247</td>\n",
       "      <td>2008-11-27 02:24:47</td>\n",
       "      <td>RO3vznPVVw5NWcgfP3k17A, azPMZoWkxdyjpnFul3aBQw...</td>\n",
       "      <td>3967</td>\n",
       "      <td>2631</td>\n",
       "      <td>2491</td>\n",
       "      <td>141</td>\n",
       "      <td>2009,2010,2011,2012,2013,2014,2015,2016,2017,2018</td>\n",
       "      <td>3.42</td>\n",
       "    </tr>\n",
       "    <tr>\n",
       "      <th>1</th>\n",
       "      <td>ZdYHJ-hctaaDeH1CpP7-EA</td>\n",
       "      <td>Colleen</td>\n",
       "      <td>266</td>\n",
       "      <td>2009-08-08 16:46:46</td>\n",
       "      <td>ouODopBKF3AqfCkuQEnrDg, QowYhZNL0T3UOi1FLG5VYQ...</td>\n",
       "      <td>491</td>\n",
       "      <td>103</td>\n",
       "      <td>152</td>\n",
       "      <td>11</td>\n",
       "      <td>2010,2011,2012,2013,2014</td>\n",
       "      <td>4.02</td>\n",
       "    </tr>\n",
       "  </tbody>\n",
       "</table>\n",
       "</div>"
      ],
      "text/plain": [
       "                  user_id user_name  user_review_count      user_yelp_since  \\\n",
       "0  4mjnkd8oJVCfBKN3i4rB-g    Tricia               1247  2008-11-27 02:24:47   \n",
       "1  ZdYHJ-hctaaDeH1CpP7-EA   Colleen                266  2009-08-08 16:46:46   \n",
       "\n",
       "                                             friends  useful_reviews  \\\n",
       "0  RO3vznPVVw5NWcgfP3k17A, azPMZoWkxdyjpnFul3aBQw...            3967   \n",
       "1  ouODopBKF3AqfCkuQEnrDg, QowYhZNL0T3UOi1FLG5VYQ...             491   \n",
       "\n",
       "   funny_reviews  cool_reviews  n_fans  \\\n",
       "0           2631          2491     141   \n",
       "1            103           152      11   \n",
       "\n",
       "                                         years_elite  average_stars  \n",
       "0  2009,2010,2011,2012,2013,2014,2015,2016,2017,2018           3.42  \n",
       "1                           2010,2011,2012,2013,2014           4.02  "
      ]
     },
     "execution_count": 5,
     "metadata": {},
     "output_type": "execute_result"
    }
   ],
   "source": [
    "df_users.head(2)"
   ]
  },
  {
   "cell_type": "code",
   "execution_count": 6,
   "metadata": {},
   "outputs": [],
   "source": [
    "df_users_p=df_users.copy()\n",
    "#reviews\n",
    "df_users_p[\"useful_reviews\"]=df_users[\"useful_reviews\"]/df_users[\"user_review_count\"]\n",
    "df_users_p[\"funny_reviews\"]=df_users[\"funny_reviews\"]/df_users[\"user_review_count\"]\n",
    "df_users_p[\"cool_reviews\"]=df_users[\"cool_reviews\"]/df_users[\"user_review_count\"]\n",
    "#elite->binary encoding\n",
    "df_users_p[\"years_elite\"]=df_users[\"years_elite\"].apply(lambda x: 0 if pd.isna(x) else 1)\n",
    "#days since registration\n",
    "df_users_p[\"user_yelp_since\"]=df_users[\"user_yelp_since\"].apply(lambda x: x.split(\" \")[0])\n",
    "df_users_p[\"user_yelp_since\"]=pd.to_datetime(df_users_p[\"user_yelp_since\"])\n",
    "df_users_p[\"today\"]=[\"2020-01-01\"]*len(df_users)\n",
    "df_users_p[\"today\"]=pd.to_datetime(df_users_p[\"today\"])\n",
    "df_users_p[\"user_yelp_since\"]=(df_users_p[\"today\"]-df_users_p[\"user_yelp_since\"]).dt.days\n",
    "#remove useless columns\n",
    "df_users_p.drop(columns=[\"user_name\",\"friends\",\"today\"],inplace=True)"
   ]
  },
  {
   "cell_type": "code",
   "execution_count": 7,
   "metadata": {},
   "outputs": [
    {
     "data": {
      "text/html": [
       "<div>\n",
       "<style scoped>\n",
       "    .dataframe tbody tr th:only-of-type {\n",
       "        vertical-align: middle;\n",
       "    }\n",
       "\n",
       "    .dataframe tbody tr th {\n",
       "        vertical-align: top;\n",
       "    }\n",
       "\n",
       "    .dataframe thead th {\n",
       "        text-align: right;\n",
       "    }\n",
       "</style>\n",
       "<table border=\"1\" class=\"dataframe\">\n",
       "  <thead>\n",
       "    <tr style=\"text-align: right;\">\n",
       "      <th></th>\n",
       "      <th>user_id</th>\n",
       "      <th>user_review_count</th>\n",
       "      <th>user_yelp_since</th>\n",
       "      <th>useful_reviews</th>\n",
       "      <th>funny_reviews</th>\n",
       "      <th>cool_reviews</th>\n",
       "      <th>n_fans</th>\n",
       "      <th>years_elite</th>\n",
       "      <th>average_stars</th>\n",
       "    </tr>\n",
       "  </thead>\n",
       "  <tbody>\n",
       "    <tr>\n",
       "      <th>0</th>\n",
       "      <td>4mjnkd8oJVCfBKN3i4rB-g</td>\n",
       "      <td>1247</td>\n",
       "      <td>4052</td>\n",
       "      <td>3.181235</td>\n",
       "      <td>2.109864</td>\n",
       "      <td>1.997594</td>\n",
       "      <td>141</td>\n",
       "      <td>1</td>\n",
       "      <td>3.42</td>\n",
       "    </tr>\n",
       "    <tr>\n",
       "      <th>1</th>\n",
       "      <td>ZdYHJ-hctaaDeH1CpP7-EA</td>\n",
       "      <td>266</td>\n",
       "      <td>3798</td>\n",
       "      <td>1.845865</td>\n",
       "      <td>0.387218</td>\n",
       "      <td>0.571429</td>\n",
       "      <td>11</td>\n",
       "      <td>1</td>\n",
       "      <td>4.02</td>\n",
       "    </tr>\n",
       "  </tbody>\n",
       "</table>\n",
       "</div>"
      ],
      "text/plain": [
       "                  user_id  user_review_count  user_yelp_since  useful_reviews  \\\n",
       "0  4mjnkd8oJVCfBKN3i4rB-g               1247             4052        3.181235   \n",
       "1  ZdYHJ-hctaaDeH1CpP7-EA                266             3798        1.845865   \n",
       "\n",
       "   funny_reviews  cool_reviews  n_fans  years_elite  average_stars  \n",
       "0       2.109864      1.997594     141            1           3.42  \n",
       "1       0.387218      0.571429      11            1           4.02  "
      ]
     },
     "execution_count": 7,
     "metadata": {},
     "output_type": "execute_result"
    }
   ],
   "source": [
    "df_users_p.head(2)"
   ]
  },
  {
   "cell_type": "markdown",
   "metadata": {},
   "source": [
    "#### Business data preprocessing"
   ]
  },
  {
   "cell_type": "code",
   "execution_count": 8,
   "metadata": {
    "scrolled": true
   },
   "outputs": [
    {
     "data": {
      "text/html": [
       "<div>\n",
       "<style scoped>\n",
       "    .dataframe tbody tr th:only-of-type {\n",
       "        vertical-align: middle;\n",
       "    }\n",
       "\n",
       "    .dataframe tbody tr th {\n",
       "        vertical-align: top;\n",
       "    }\n",
       "\n",
       "    .dataframe thead th {\n",
       "        text-align: right;\n",
       "    }\n",
       "</style>\n",
       "<table border=\"1\" class=\"dataframe\">\n",
       "  <thead>\n",
       "    <tr style=\"text-align: right;\">\n",
       "      <th></th>\n",
       "      <th>business_id</th>\n",
       "      <th>business_name</th>\n",
       "      <th>business_address</th>\n",
       "      <th>business_city</th>\n",
       "      <th>business_state</th>\n",
       "      <th>business_latitude</th>\n",
       "      <th>business_longitude</th>\n",
       "      <th>stars</th>\n",
       "      <th>review_counts</th>\n",
       "      <th>is_open</th>\n",
       "      <th>categories</th>\n",
       "    </tr>\n",
       "  </thead>\n",
       "  <tbody>\n",
       "    <tr>\n",
       "      <th>0</th>\n",
       "      <td>pQeaRpvuhoEqudo3uymHIQ</td>\n",
       "      <td>The Empanadas House</td>\n",
       "      <td>404 E Green St</td>\n",
       "      <td>Champaign</td>\n",
       "      <td>IL</td>\n",
       "      <td>40.110446</td>\n",
       "      <td>-88.233073</td>\n",
       "      <td>4.5</td>\n",
       "      <td>5</td>\n",
       "      <td>1</td>\n",
       "      <td>Ethnic Food, Food Trucks, Specialty Food, Impo...</td>\n",
       "    </tr>\n",
       "    <tr>\n",
       "      <th>1</th>\n",
       "      <td>-LfTBo0oa_uD454ScEW2XA</td>\n",
       "      <td>Merry Ann's Diner</td>\n",
       "      <td>1 E Main St</td>\n",
       "      <td>Champaign</td>\n",
       "      <td>IL</td>\n",
       "      <td>40.118133</td>\n",
       "      <td>-88.242900</td>\n",
       "      <td>3.0</td>\n",
       "      <td>47</td>\n",
       "      <td>0</td>\n",
       "      <td>Restaurants, Diners, Sandwiches, Breakfast &amp; B...</td>\n",
       "    </tr>\n",
       "  </tbody>\n",
       "</table>\n",
       "</div>"
      ],
      "text/plain": [
       "              business_id        business_name business_address business_city  \\\n",
       "0  pQeaRpvuhoEqudo3uymHIQ  The Empanadas House   404 E Green St     Champaign   \n",
       "1  -LfTBo0oa_uD454ScEW2XA    Merry Ann's Diner      1 E Main St     Champaign   \n",
       "\n",
       "  business_state  business_latitude  business_longitude  stars  review_counts  \\\n",
       "0             IL          40.110446          -88.233073    4.5              5   \n",
       "1             IL          40.118133          -88.242900    3.0             47   \n",
       "\n",
       "   is_open                                         categories  \n",
       "0        1  Ethnic Food, Food Trucks, Specialty Food, Impo...  \n",
       "1        0  Restaurants, Diners, Sandwiches, Breakfast & B...  "
      ]
     },
     "execution_count": 8,
     "metadata": {},
     "output_type": "execute_result"
    }
   ],
   "source": [
    "df_business.head(2)"
   ]
  },
  {
   "cell_type": "code",
   "execution_count": 9,
   "metadata": {},
   "outputs": [],
   "source": [
    "df_business_p=df_business.copy()\n",
    "\n",
    "#encode categories\n",
    "from sklearn.preprocessing import MultiLabelBinarizer\n",
    "one_hot = MultiLabelBinarizer()\n",
    "\n",
    "df_business[\"categories\"]=df_business[\"categories\"].apply(lambda x:x.split(\",\"))\n",
    "\n",
    "cat_col=one_hot.fit_transform(df_business[\"categories\"])\n",
    "cat_col=pd.DataFrame(cat_col)\n",
    "cat_col.columns=list(one_hot.classes_)\n",
    "\n",
    "#encode city\n",
    "df_business_p[\"business_city\"]=df_business[\"business_city\"].apply(lambda x: x if x in [\"Champaign\",\"Urbana\",\"Rantoul\",\"Mahomet\",\"Savoy\",\"Monticello\"] else \"Other\")\n",
    "df_business_p=pd.get_dummies(df_business_p, columns=[\"business_city\"])\n",
    "\n",
    "#remove useless columns\n",
    "df_business_p.drop(columns=[\"business_name\",\"business_address\",\"business_latitude\",\"business_longitude\",\"categories\",\"business_state\"],inplace=True)"
   ]
  },
  {
   "cell_type": "code",
   "execution_count": 10,
   "metadata": {},
   "outputs": [
    {
     "data": {
      "text/html": [
       "<div>\n",
       "<style scoped>\n",
       "    .dataframe tbody tr th:only-of-type {\n",
       "        vertical-align: middle;\n",
       "    }\n",
       "\n",
       "    .dataframe tbody tr th {\n",
       "        vertical-align: top;\n",
       "    }\n",
       "\n",
       "    .dataframe thead th {\n",
       "        text-align: right;\n",
       "    }\n",
       "</style>\n",
       "<table border=\"1\" class=\"dataframe\">\n",
       "  <thead>\n",
       "    <tr style=\"text-align: right;\">\n",
       "      <th></th>\n",
       "      <th>business_id</th>\n",
       "      <th>stars</th>\n",
       "      <th>review_counts</th>\n",
       "      <th>is_open</th>\n",
       "      <th>business_city_Champaign</th>\n",
       "      <th>business_city_Mahomet</th>\n",
       "      <th>business_city_Monticello</th>\n",
       "      <th>business_city_Other</th>\n",
       "      <th>business_city_Rantoul</th>\n",
       "      <th>business_city_Savoy</th>\n",
       "      <th>business_city_Urbana</th>\n",
       "    </tr>\n",
       "  </thead>\n",
       "  <tbody>\n",
       "    <tr>\n",
       "      <th>0</th>\n",
       "      <td>pQeaRpvuhoEqudo3uymHIQ</td>\n",
       "      <td>4.5</td>\n",
       "      <td>5</td>\n",
       "      <td>1</td>\n",
       "      <td>1</td>\n",
       "      <td>0</td>\n",
       "      <td>0</td>\n",
       "      <td>0</td>\n",
       "      <td>0</td>\n",
       "      <td>0</td>\n",
       "      <td>0</td>\n",
       "    </tr>\n",
       "    <tr>\n",
       "      <th>1</th>\n",
       "      <td>-LfTBo0oa_uD454ScEW2XA</td>\n",
       "      <td>3.0</td>\n",
       "      <td>47</td>\n",
       "      <td>0</td>\n",
       "      <td>1</td>\n",
       "      <td>0</td>\n",
       "      <td>0</td>\n",
       "      <td>0</td>\n",
       "      <td>0</td>\n",
       "      <td>0</td>\n",
       "      <td>0</td>\n",
       "    </tr>\n",
       "  </tbody>\n",
       "</table>\n",
       "</div>"
      ],
      "text/plain": [
       "              business_id  stars  review_counts  is_open  \\\n",
       "0  pQeaRpvuhoEqudo3uymHIQ    4.5              5        1   \n",
       "1  -LfTBo0oa_uD454ScEW2XA    3.0             47        0   \n",
       "\n",
       "   business_city_Champaign  business_city_Mahomet  business_city_Monticello  \\\n",
       "0                        1                      0                         0   \n",
       "1                        1                      0                         0   \n",
       "\n",
       "   business_city_Other  business_city_Rantoul  business_city_Savoy  \\\n",
       "0                    0                      0                    0   \n",
       "1                    0                      0                    0   \n",
       "\n",
       "   business_city_Urbana  \n",
       "0                     0  \n",
       "1                     0  "
      ]
     },
     "execution_count": 10,
     "metadata": {},
     "output_type": "execute_result"
    }
   ],
   "source": [
    "df_business_p.head(2)"
   ]
  },
  {
   "cell_type": "markdown",
   "metadata": {},
   "source": [
    "#### Ratings data preprocessing"
   ]
  },
  {
   "cell_type": "code",
   "execution_count": 11,
   "metadata": {},
   "outputs": [
    {
     "data": {
      "text/html": [
       "<div>\n",
       "<style scoped>\n",
       "    .dataframe tbody tr th:only-of-type {\n",
       "        vertical-align: middle;\n",
       "    }\n",
       "\n",
       "    .dataframe tbody tr th {\n",
       "        vertical-align: top;\n",
       "    }\n",
       "\n",
       "    .dataframe thead th {\n",
       "        text-align: right;\n",
       "    }\n",
       "</style>\n",
       "<table border=\"1\" class=\"dataframe\">\n",
       "  <thead>\n",
       "    <tr style=\"text-align: right;\">\n",
       "      <th></th>\n",
       "      <th>user_id</th>\n",
       "      <th>business_id</th>\n",
       "      <th>rating</th>\n",
       "      <th>date</th>\n",
       "    </tr>\n",
       "  </thead>\n",
       "  <tbody>\n",
       "    <tr>\n",
       "      <th>0</th>\n",
       "      <td>6X0i-oGUbh5DZdTHzFuKfg</td>\n",
       "      <td>9A1C1f0m4nQltQrOOTl-Kw</td>\n",
       "      <td>1.0</td>\n",
       "      <td>2013-12-07 02:26:13</td>\n",
       "    </tr>\n",
       "    <tr>\n",
       "      <th>1</th>\n",
       "      <td>6X0i-oGUbh5DZdTHzFuKfg</td>\n",
       "      <td>u8C8pRvaHXg3PgDrsUHJHQ</td>\n",
       "      <td>5.0</td>\n",
       "      <td>2018-08-02 00:59:40</td>\n",
       "    </tr>\n",
       "  </tbody>\n",
       "</table>\n",
       "</div>"
      ],
      "text/plain": [
       "                  user_id             business_id  rating                 date\n",
       "0  6X0i-oGUbh5DZdTHzFuKfg  9A1C1f0m4nQltQrOOTl-Kw     1.0  2013-12-07 02:26:13\n",
       "1  6X0i-oGUbh5DZdTHzFuKfg  u8C8pRvaHXg3PgDrsUHJHQ     5.0  2018-08-02 00:59:40"
      ]
     },
     "execution_count": 11,
     "metadata": {},
     "output_type": "execute_result"
    }
   ],
   "source": [
    "df_ratings.head(2)"
   ]
  },
  {
   "cell_type": "code",
   "execution_count": 12,
   "metadata": {},
   "outputs": [],
   "source": [
    "df_ratings_cop = df_ratings.copy()\n",
    "df_ratings_cop = df_ratings_cop.groupby(['user_id'])['date'].max()\n",
    "df_ratings_cop = df_ratings_cop.to_frame()\n",
    "df_ratings_cop = df_ratings_cop.reset_index()\n"
   ]
  },
  {
   "cell_type": "code",
   "execution_count": 13,
   "metadata": {},
   "outputs": [
    {
     "data": {
      "text/html": [
       "<div>\n",
       "<style scoped>\n",
       "    .dataframe tbody tr th:only-of-type {\n",
       "        vertical-align: middle;\n",
       "    }\n",
       "\n",
       "    .dataframe tbody tr th {\n",
       "        vertical-align: top;\n",
       "    }\n",
       "\n",
       "    .dataframe thead th {\n",
       "        text-align: right;\n",
       "    }\n",
       "</style>\n",
       "<table border=\"1\" class=\"dataframe\">\n",
       "  <thead>\n",
       "    <tr style=\"text-align: right;\">\n",
       "      <th></th>\n",
       "      <th>user_id</th>\n",
       "      <th>date</th>\n",
       "    </tr>\n",
       "  </thead>\n",
       "  <tbody>\n",
       "    <tr>\n",
       "      <th>0</th>\n",
       "      <td>-0e6xyw_4zyg-2YtqSlS_g</td>\n",
       "      <td>2017-09-06 03:02:05</td>\n",
       "    </tr>\n",
       "    <tr>\n",
       "      <th>1</th>\n",
       "      <td>-5PGdb8Cdp3GNZkiqyO8hQ</td>\n",
       "      <td>2019-03-14 00:31:06</td>\n",
       "    </tr>\n",
       "    <tr>\n",
       "      <th>2</th>\n",
       "      <td>-5RiprVYwmC33pb6sX7PGg</td>\n",
       "      <td>2014-02-27 05:13:07</td>\n",
       "    </tr>\n",
       "    <tr>\n",
       "      <th>3</th>\n",
       "      <td>-6v_LFbfmSbIx2ZSnVtixQ</td>\n",
       "      <td>2011-09-25 01:46:24</td>\n",
       "    </tr>\n",
       "    <tr>\n",
       "      <th>4</th>\n",
       "      <td>-B2cmf8vkUq0lUOUs63lhg</td>\n",
       "      <td>2019-08-16 14:26:06</td>\n",
       "    </tr>\n",
       "  </tbody>\n",
       "</table>\n",
       "</div>"
      ],
      "text/plain": [
       "                  user_id                 date\n",
       "0  -0e6xyw_4zyg-2YtqSlS_g  2017-09-06 03:02:05\n",
       "1  -5PGdb8Cdp3GNZkiqyO8hQ  2019-03-14 00:31:06\n",
       "2  -5RiprVYwmC33pb6sX7PGg  2014-02-27 05:13:07\n",
       "3  -6v_LFbfmSbIx2ZSnVtixQ  2011-09-25 01:46:24\n",
       "4  -B2cmf8vkUq0lUOUs63lhg  2019-08-16 14:26:06"
      ]
     },
     "execution_count": 13,
     "metadata": {},
     "output_type": "execute_result"
    }
   ],
   "source": [
    "df_ratings_cop.head()"
   ]
  },
  {
   "cell_type": "code",
   "execution_count": 14,
   "metadata": {},
   "outputs": [],
   "source": [
    "#days since registration\n",
    "df_ratings_p = df_ratings.copy()\n",
    "df_ratings_p[\"date\"]=pd.to_datetime(df_ratings_p[\"date\"])\n",
    "df_ratings_p[\"today\"]=[\"2020-01-01\"]*len(df_ratings)\n",
    "df_ratings_p[\"today\"]=pd.to_datetime(df_ratings_p[\"today\"])\n",
    "df_ratings_p[\"days_since_rating\"]=(df_ratings_p[\"today\"]-df_ratings_p[\"date\"]).dt.days\n",
    "\n",
    "#removing useless columns\n",
    "df_ratings_p.drop(columns=[\"today\"],inplace=True)"
   ]
  },
  {
   "cell_type": "code",
   "execution_count": 15,
   "metadata": {},
   "outputs": [
    {
     "data": {
      "text/html": [
       "<div>\n",
       "<style scoped>\n",
       "    .dataframe tbody tr th:only-of-type {\n",
       "        vertical-align: middle;\n",
       "    }\n",
       "\n",
       "    .dataframe tbody tr th {\n",
       "        vertical-align: top;\n",
       "    }\n",
       "\n",
       "    .dataframe thead th {\n",
       "        text-align: right;\n",
       "    }\n",
       "</style>\n",
       "<table border=\"1\" class=\"dataframe\">\n",
       "  <thead>\n",
       "    <tr style=\"text-align: right;\">\n",
       "      <th></th>\n",
       "      <th>user_id</th>\n",
       "      <th>business_id</th>\n",
       "      <th>rating</th>\n",
       "      <th>date</th>\n",
       "      <th>days_since_rating</th>\n",
       "    </tr>\n",
       "  </thead>\n",
       "  <tbody>\n",
       "    <tr>\n",
       "      <th>0</th>\n",
       "      <td>6X0i-oGUbh5DZdTHzFuKfg</td>\n",
       "      <td>9A1C1f0m4nQltQrOOTl-Kw</td>\n",
       "      <td>1.0</td>\n",
       "      <td>2013-12-07 02:26:13</td>\n",
       "      <td>2215</td>\n",
       "    </tr>\n",
       "    <tr>\n",
       "      <th>1</th>\n",
       "      <td>6X0i-oGUbh5DZdTHzFuKfg</td>\n",
       "      <td>u8C8pRvaHXg3PgDrsUHJHQ</td>\n",
       "      <td>5.0</td>\n",
       "      <td>2018-08-02 00:59:40</td>\n",
       "      <td>516</td>\n",
       "    </tr>\n",
       "  </tbody>\n",
       "</table>\n",
       "</div>"
      ],
      "text/plain": [
       "                  user_id             business_id  rating                date  \\\n",
       "0  6X0i-oGUbh5DZdTHzFuKfg  9A1C1f0m4nQltQrOOTl-Kw     1.0 2013-12-07 02:26:13   \n",
       "1  6X0i-oGUbh5DZdTHzFuKfg  u8C8pRvaHXg3PgDrsUHJHQ     5.0 2018-08-02 00:59:40   \n",
       "\n",
       "   days_since_rating  \n",
       "0               2215  \n",
       "1                516  "
      ]
     },
     "execution_count": 15,
     "metadata": {},
     "output_type": "execute_result"
    }
   ],
   "source": [
    "df_ratings_p.head(2)"
   ]
  },
  {
   "cell_type": "markdown",
   "metadata": {},
   "source": [
    "#### Merging dataframes"
   ]
  },
  {
   "cell_type": "code",
   "execution_count": 16,
   "metadata": {},
   "outputs": [],
   "source": [
    "all_df=pd.merge(df_ratings_p,df_users_p,how=\"left\",on='user_id')\n",
    "all_df=pd.merge(all_df,df_business_p,how=\"left\",on=\"business_id\")\n",
    "all_df.drop(columns=[\"business_id\"],inplace=True);"
   ]
  },
  {
   "cell_type": "code",
   "execution_count": 17,
   "metadata": {},
   "outputs": [
    {
     "data": {
      "text/html": [
       "<div>\n",
       "<style scoped>\n",
       "    .dataframe tbody tr th:only-of-type {\n",
       "        vertical-align: middle;\n",
       "    }\n",
       "\n",
       "    .dataframe tbody tr th {\n",
       "        vertical-align: top;\n",
       "    }\n",
       "\n",
       "    .dataframe thead th {\n",
       "        text-align: right;\n",
       "    }\n",
       "</style>\n",
       "<table border=\"1\" class=\"dataframe\">\n",
       "  <thead>\n",
       "    <tr style=\"text-align: right;\">\n",
       "      <th></th>\n",
       "      <th>user_id</th>\n",
       "      <th>rating</th>\n",
       "      <th>date</th>\n",
       "      <th>days_since_rating</th>\n",
       "      <th>user_review_count</th>\n",
       "      <th>user_yelp_since</th>\n",
       "      <th>useful_reviews</th>\n",
       "      <th>funny_reviews</th>\n",
       "      <th>cool_reviews</th>\n",
       "      <th>n_fans</th>\n",
       "      <th>...</th>\n",
       "      <th>stars</th>\n",
       "      <th>review_counts</th>\n",
       "      <th>is_open</th>\n",
       "      <th>business_city_Champaign</th>\n",
       "      <th>business_city_Mahomet</th>\n",
       "      <th>business_city_Monticello</th>\n",
       "      <th>business_city_Other</th>\n",
       "      <th>business_city_Rantoul</th>\n",
       "      <th>business_city_Savoy</th>\n",
       "      <th>business_city_Urbana</th>\n",
       "    </tr>\n",
       "  </thead>\n",
       "  <tbody>\n",
       "    <tr>\n",
       "      <th>0</th>\n",
       "      <td>6X0i-oGUbh5DZdTHzFuKfg</td>\n",
       "      <td>1.0</td>\n",
       "      <td>2013-12-07 02:26:13</td>\n",
       "      <td>2215</td>\n",
       "      <td>22</td>\n",
       "      <td>3091</td>\n",
       "      <td>3.363636</td>\n",
       "      <td>0.636364</td>\n",
       "      <td>0.272727</td>\n",
       "      <td>2</td>\n",
       "      <td>...</td>\n",
       "      <td>2.5</td>\n",
       "      <td>42</td>\n",
       "      <td>0</td>\n",
       "      <td>1</td>\n",
       "      <td>0</td>\n",
       "      <td>0</td>\n",
       "      <td>0</td>\n",
       "      <td>0</td>\n",
       "      <td>0</td>\n",
       "      <td>0</td>\n",
       "    </tr>\n",
       "    <tr>\n",
       "      <th>1</th>\n",
       "      <td>6X0i-oGUbh5DZdTHzFuKfg</td>\n",
       "      <td>5.0</td>\n",
       "      <td>2018-08-02 00:59:40</td>\n",
       "      <td>516</td>\n",
       "      <td>22</td>\n",
       "      <td>3091</td>\n",
       "      <td>3.363636</td>\n",
       "      <td>0.636364</td>\n",
       "      <td>0.272727</td>\n",
       "      <td>2</td>\n",
       "      <td>...</td>\n",
       "      <td>3.5</td>\n",
       "      <td>440</td>\n",
       "      <td>1</td>\n",
       "      <td>1</td>\n",
       "      <td>0</td>\n",
       "      <td>0</td>\n",
       "      <td>0</td>\n",
       "      <td>0</td>\n",
       "      <td>0</td>\n",
       "      <td>0</td>\n",
       "    </tr>\n",
       "  </tbody>\n",
       "</table>\n",
       "<p>2 rows × 22 columns</p>\n",
       "</div>"
      ],
      "text/plain": [
       "                  user_id  rating                date  days_since_rating  \\\n",
       "0  6X0i-oGUbh5DZdTHzFuKfg     1.0 2013-12-07 02:26:13               2215   \n",
       "1  6X0i-oGUbh5DZdTHzFuKfg     5.0 2018-08-02 00:59:40                516   \n",
       "\n",
       "   user_review_count  user_yelp_since  useful_reviews  funny_reviews  \\\n",
       "0                 22             3091        3.363636       0.636364   \n",
       "1                 22             3091        3.363636       0.636364   \n",
       "\n",
       "   cool_reviews  n_fans  ...  stars  review_counts  is_open  \\\n",
       "0      0.272727       2  ...    2.5             42        0   \n",
       "1      0.272727       2  ...    3.5            440        1   \n",
       "\n",
       "   business_city_Champaign  business_city_Mahomet  business_city_Monticello  \\\n",
       "0                        1                      0                         0   \n",
       "1                        1                      0                         0   \n",
       "\n",
       "   business_city_Other  business_city_Rantoul  business_city_Savoy  \\\n",
       "0                    0                      0                    0   \n",
       "1                    0                      0                    0   \n",
       "\n",
       "   business_city_Urbana  \n",
       "0                     0  \n",
       "1                     0  \n",
       "\n",
       "[2 rows x 22 columns]"
      ]
     },
     "execution_count": 17,
     "metadata": {},
     "output_type": "execute_result"
    }
   ],
   "source": [
    "all_df.head(2)"
   ]
  },
  {
   "cell_type": "markdown",
   "metadata": {},
   "source": [
    "## Model training"
   ]
  },
  {
   "cell_type": "markdown",
   "metadata": {},
   "source": [
    "#### Split training et test sets"
   ]
  },
  {
   "cell_type": "code",
   "execution_count": 18,
   "metadata": {},
   "outputs": [],
   "source": [
    "df_ratings_cop = all_df.copy()\n",
    "df_ratings_cop = df_ratings_cop.groupby(['user_id'])['date'].max()\n",
    "df_ratings_cop = df_ratings_cop.to_frame()\n",
    "df_ratings_cop = df_ratings_cop.reset_index()\n",
    "\n",
    "all_df['index']=all_df.index\n",
    "all_df_test = pd.merge(all_df, df_ratings_cop, how='right')\n",
    "\n",
    "all_df_test.drop([2327,2328],inplace=True)\n",
    "all_df_test=all_df_test.reset_index(drop=True)\n",
    "all_df_train = all_df.drop(list(all_df_test['index']))\n",
    "\n",
    "all_df_train.drop(columns=[\"date\",\"index\",\"user_id\"],inplace=True)\n",
    "all_df_test.drop(columns=[\"date\",\"index\",\"user_id\"],inplace=True)\n",
    "all_df_train=all_df_train.reset_index(drop=True)"
   ]
  },
  {
   "cell_type": "code",
   "execution_count": 19,
   "metadata": {},
   "outputs": [],
   "source": [
    "x_train,y_train=all_df_train.drop(columns=[\"rating\"]),pd.DataFrame(all_df_train[\"rating\"])\n",
    "x_test,y_test=all_df_train.drop(columns=[\"rating\"]),pd.DataFrame(all_df_train[\"rating\"])"
   ]
  },
  {
   "cell_type": "markdown",
   "metadata": {},
   "source": [
    "#### Cross-validation to determine best model"
   ]
  },
  {
   "cell_type": "code",
   "execution_count": 22,
   "metadata": {},
   "outputs": [
    {
     "name": "stdout",
     "output_type": "stream",
     "text": [
      "MSE de la régression avec arbre de décision:  2.31\n",
      "Ecart type:  0.24\n"
     ]
    }
   ],
   "source": [
    "from sklearn.tree import DecisionTreeRegressor\n",
    "from sklearn.model_selection import cross_val_score\n",
    "\n",
    "dtr = DecisionTreeRegressor(random_state=13,criterion=\"mse\",max_depth=20)\n",
    "scores = cross_val_score(dtr, x_train, y_train,cv=10,scoring=\"neg_mean_squared_error\")\n",
    "mse_scores = -scores\n",
    "print(\"MSE de la régression avec arbre de décision: \",round(mse_scores.mean(),2))\n",
    "print(\"Ecart type: \",round(mse_scores.std(),2))"
   ]
  },
  {
   "cell_type": "code",
   "execution_count": 23,
   "metadata": {},
   "outputs": [
    {
     "name": "stdout",
     "output_type": "stream",
     "text": [
      "MSE de la régression linéaire:  1.17\n",
      "Ecart type:  0.1\n"
     ]
    }
   ],
   "source": [
    "from sklearn.linear_model import LinearRegression\n",
    "\n",
    "linreg = LinearRegression()\n",
    "scores = cross_val_score(linreg, x_train, y_train,cv=10,scoring=\"neg_mean_squared_error\")\n",
    "mse_scores = -scores\n",
    "print(\"MSE de la régression linéaire: \",round(mse_scores.mean(),2))\n",
    "print(\"Ecart type: \",round(mse_scores.std(),2))"
   ]
  },
  {
   "cell_type": "code",
   "execution_count": 24,
   "metadata": {},
   "outputs": [
    {
     "name": "stderr",
     "output_type": "stream",
     "text": [
      "C:\\Users\\Armand\\Anaconda3\\lib\\site-packages\\sklearn\\model_selection\\_validation.py:516: DataConversionWarning: A column-vector y was passed when a 1d array was expected. Please change the shape of y to (n_samples,), for example using ravel().\n",
      "  estimator.fit(X_train, y_train, **fit_params)\n",
      "C:\\Users\\Armand\\Anaconda3\\lib\\site-packages\\sklearn\\model_selection\\_validation.py:516: DataConversionWarning: A column-vector y was passed when a 1d array was expected. Please change the shape of y to (n_samples,), for example using ravel().\n",
      "  estimator.fit(X_train, y_train, **fit_params)\n",
      "C:\\Users\\Armand\\Anaconda3\\lib\\site-packages\\sklearn\\model_selection\\_validation.py:516: DataConversionWarning: A column-vector y was passed when a 1d array was expected. Please change the shape of y to (n_samples,), for example using ravel().\n",
      "  estimator.fit(X_train, y_train, **fit_params)\n",
      "C:\\Users\\Armand\\Anaconda3\\lib\\site-packages\\sklearn\\model_selection\\_validation.py:516: DataConversionWarning: A column-vector y was passed when a 1d array was expected. Please change the shape of y to (n_samples,), for example using ravel().\n",
      "  estimator.fit(X_train, y_train, **fit_params)\n",
      "C:\\Users\\Armand\\Anaconda3\\lib\\site-packages\\sklearn\\model_selection\\_validation.py:516: DataConversionWarning: A column-vector y was passed when a 1d array was expected. Please change the shape of y to (n_samples,), for example using ravel().\n",
      "  estimator.fit(X_train, y_train, **fit_params)\n",
      "C:\\Users\\Armand\\Anaconda3\\lib\\site-packages\\sklearn\\model_selection\\_validation.py:516: DataConversionWarning: A column-vector y was passed when a 1d array was expected. Please change the shape of y to (n_samples,), for example using ravel().\n",
      "  estimator.fit(X_train, y_train, **fit_params)\n",
      "C:\\Users\\Armand\\Anaconda3\\lib\\site-packages\\sklearn\\model_selection\\_validation.py:516: DataConversionWarning: A column-vector y was passed when a 1d array was expected. Please change the shape of y to (n_samples,), for example using ravel().\n",
      "  estimator.fit(X_train, y_train, **fit_params)\n",
      "C:\\Users\\Armand\\Anaconda3\\lib\\site-packages\\sklearn\\model_selection\\_validation.py:516: DataConversionWarning: A column-vector y was passed when a 1d array was expected. Please change the shape of y to (n_samples,), for example using ravel().\n",
      "  estimator.fit(X_train, y_train, **fit_params)\n",
      "C:\\Users\\Armand\\Anaconda3\\lib\\site-packages\\sklearn\\model_selection\\_validation.py:516: DataConversionWarning: A column-vector y was passed when a 1d array was expected. Please change the shape of y to (n_samples,), for example using ravel().\n",
      "  estimator.fit(X_train, y_train, **fit_params)\n",
      "C:\\Users\\Armand\\Anaconda3\\lib\\site-packages\\sklearn\\model_selection\\_validation.py:516: DataConversionWarning: A column-vector y was passed when a 1d array was expected. Please change the shape of y to (n_samples,), for example using ravel().\n",
      "  estimator.fit(X_train, y_train, **fit_params)\n"
     ]
    },
    {
     "name": "stdout",
     "output_type": "stream",
     "text": [
      "MSE de la régression random forest:  1.21\n",
      "Ecart type:  0.11\n"
     ]
    }
   ],
   "source": [
    "from sklearn.ensemble import RandomForestRegressor\n",
    "rdmforestr = RandomForestRegressor(random_state=13,criterion=\"mse\",max_depth=15,n_estimators=100)\n",
    "scores = cross_val_score(rdmforestr, x_train, y_train,cv=10,scoring=\"neg_mean_squared_error\")\n",
    "mse_scores = -scores\n",
    "print(\"MSE de la régression random forest: \",round(mse_scores.mean(),2))\n",
    "print(\"Ecart type: \",round(mse_scores.std(),2))"
   ]
  },
  {
   "cell_type": "code",
   "execution_count": 27,
   "metadata": {
    "scrolled": true
   },
   "outputs": [
    {
     "name": "stdout",
     "output_type": "stream",
     "text": [
      "MSE de la régression LGBM:  1.18\n",
      "Ecart type:  0.1\n"
     ]
    }
   ],
   "source": [
    "from lightgbm import LGBMRegressor\n",
    "lgbm = LGBMRegressor(boosting_type=\"gbdt\",\n",
    "                      max_depth = 20,\n",
    "                      colsample_bytree=.9,\n",
    "                      n_estimators = 150,\n",
    "                      #min_child_samples=10,\n",
    "                      #subsample=.9,\n",
    "                      subsample_freq=1,\n",
    "                      reg_alpha=0, \n",
    "                      reg_lambda=1,\n",
    "                      n_jobs=-1,\n",
    "                      tree_learner='voting',\n",
    "                      max_bin = 100,\n",
    "                      min_gain_to_split = .5)\n",
    "scores = cross_val_score(lgbm, x_train, y_train,cv=10,scoring=\"neg_mean_squared_error\")\n",
    "mse_scores = -scores\n",
    "print(\"MSE de la régression LGBM: \",round(mse_scores.mean(),2))\n",
    "print(\"Ecart type: \",round(mse_scores.std(),2))"
   ]
  },
  {
   "cell_type": "code",
   "execution_count": 34,
   "metadata": {
    "scrolled": true
   },
   "outputs": [
    {
     "name": "stderr",
     "output_type": "stream",
     "text": [
      "C:\\Users\\Armand\\Anaconda3\\lib\\site-packages\\sklearn\\model_selection\\_search.py:715: DataConversionWarning: A column-vector y was passed when a 1d array was expected. Please change the shape of y to (n_samples,), for example using ravel().\n",
      "  self.best_estimator_.fit(X, y, **fit_params)\n"
     ]
    },
    {
     "data": {
      "text/plain": [
       "GridSearchCV(cv=10, error_score='raise-deprecating',\n",
       "             estimator=RandomForestRegressor(bootstrap=True, criterion='mse',\n",
       "                                             max_depth=None,\n",
       "                                             max_features='auto',\n",
       "                                             max_leaf_nodes=None,\n",
       "                                             min_impurity_decrease=0.0,\n",
       "                                             min_impurity_split=None,\n",
       "                                             min_samples_leaf=1,\n",
       "                                             min_samples_split=2,\n",
       "                                             min_weight_fraction_leaf=0.0,\n",
       "                                             n_estimators='warn', n_jobs=None,\n",
       "                                             oob_score=False, random_state=None,\n",
       "                                             verbose=0, warm_start=False),\n",
       "             iid='warn', n_jobs=-1,\n",
       "             param_grid={'max_depth': [10, 15, 20, 25],\n",
       "                         'n_estimators': [75, 100, 125]},\n",
       "             pre_dispatch='2*n_jobs', refit=True, return_train_score=False,\n",
       "             scoring='neg_mean_squared_error', verbose=0)"
      ]
     },
     "execution_count": 34,
     "metadata": {},
     "output_type": "execute_result"
    }
   ],
   "source": [
    "from sklearn.model_selection import GridSearchCV\n",
    "\n",
    "grid = {'max_depth':[10,15,20,25],\n",
    "        'n_estimators':[75,100,125]}\n",
    "\n",
    "rfr = RandomForestRegressor(criterion=\"mse\")\n",
    "\n",
    "gridsearchrf = GridSearchCV(rfr, param_grid = grid, scoring='neg_mean_squared_error', n_jobs=-1, cv=10)\n",
    "gridsearchrf.fit(x_train, y_train)"
   ]
  },
  {
   "cell_type": "code",
   "execution_count": 36,
   "metadata": {},
   "outputs": [
    {
     "data": {
      "text/plain": [
       "RandomForestRegressor(bootstrap=True, criterion='mse', max_depth=10,\n",
       "                      max_features='auto', max_leaf_nodes=None,\n",
       "                      min_impurity_decrease=0.0, min_impurity_split=None,\n",
       "                      min_samples_leaf=1, min_samples_split=2,\n",
       "                      min_weight_fraction_leaf=0.0, n_estimators=75,\n",
       "                      n_jobs=None, oob_score=False, random_state=None,\n",
       "                      verbose=0, warm_start=False)"
      ]
     },
     "execution_count": 36,
     "metadata": {},
     "output_type": "execute_result"
    }
   ],
   "source": [
    "gridsearchrf.best_estimator_"
   ]
  },
  {
   "cell_type": "code",
   "execution_count": null,
   "metadata": {},
   "outputs": [],
   "source": [
    "from sklearn.model_selection import GridSearchCV\n",
    "\n",
    "grid = {'max_depth':[8,10,12,14,16,18],\n",
    "        'reg_lambda':[0.5, 1, 3, 5, 10],\n",
    "        'n_estimators':[50,100,150]}\n",
    "\n",
    "lgbm = LGBMRegressor(boosting_type=\"gbdt\",\n",
    "                      #max_depth = 15,\n",
    "                      colsample_bytree=.9,\n",
    "                      #n_estimators = 100,\n",
    "                      #min_child_samples=10,\n",
    "                      #subsample=.9,\n",
    "                      subsample_freq=1,\n",
    "                      reg_alpha=0, \n",
    "                      #reg_lambda=1,\n",
    "                      n_jobs=-1,\n",
    "                      tree_learner='voting',\n",
    "                      max_bin = 100,\n",
    "                      min_gain_to_split = .5)\n",
    "\n",
    "gridsearch = GridSearchCV(lgbm, param_grid = grid, scoring='neg_mean_squared_error', n_jobs=-1, cv=10)\n",
    "gridsearch.fit(x_train, y_train);"
   ]
  },
  {
   "cell_type": "markdown",
   "metadata": {},
   "source": [
    "#### Performance evaluation"
   ]
  },
  {
   "cell_type": "markdown",
   "metadata": {},
   "source": [
    "lgbm not tuned"
   ]
  },
  {
   "cell_type": "code",
   "execution_count": 32,
   "metadata": {},
   "outputs": [
    {
     "name": "stdout",
     "output_type": "stream",
     "text": [
      "MSE test set:  0.98\n"
     ]
    }
   ],
   "source": [
    "lgbm.fit(x_train,y_train)\n",
    "y_pred=lgbm.predict(x_test)\n",
    "print(\"MSE test set: \", round(mean_squared_error(y_test, y_pred),2))"
   ]
  },
  {
   "cell_type": "markdown",
   "metadata": {},
   "source": [
    "Random forest regressor not tuned"
   ]
  },
  {
   "cell_type": "code",
   "execution_count": 33,
   "metadata": {
    "scrolled": true
   },
   "outputs": [
    {
     "name": "stderr",
     "output_type": "stream",
     "text": [
      "C:\\Users\\Armand\\Anaconda3\\lib\\site-packages\\ipykernel_launcher.py:1: DataConversionWarning: A column-vector y was passed when a 1d array was expected. Please change the shape of y to (n_samples,), for example using ravel().\n",
      "  \"\"\"Entry point for launching an IPython kernel.\n"
     ]
    },
    {
     "name": "stdout",
     "output_type": "stream",
     "text": [
      "MSE test set:  0.48\n"
     ]
    }
   ],
   "source": [
    "rdmforestr.fit(x_train,y_train)\n",
    "y_pred=rdmforestr.predict(x_test)\n",
    "print(\"MSE test set: \", round(mean_squared_error(y_test, y_pred),2))"
   ]
  },
  {
   "cell_type": "markdown",
   "metadata": {},
   "source": [
    "Random forest regressor tuned"
   ]
  },
  {
   "cell_type": "code",
   "execution_count": 37,
   "metadata": {},
   "outputs": [
    {
     "name": "stderr",
     "output_type": "stream",
     "text": [
      "C:\\Users\\Armand\\Anaconda3\\lib\\site-packages\\ipykernel_launcher.py:2: DataConversionWarning: A column-vector y was passed when a 1d array was expected. Please change the shape of y to (n_samples,), for example using ravel().\n",
      "  \n"
     ]
    },
    {
     "name": "stdout",
     "output_type": "stream",
     "text": [
      "MSE test set:  0.9\n"
     ]
    }
   ],
   "source": [
    "rf=gridsearchrf.best_estimator_\n",
    "rf.fit(x_train,y_train)\n",
    "y_pred=rf.predict(x_test)\n",
    "print(\"MSE test set: \", round(mean_squared_error(y_test, y_pred),2))"
   ]
  },
  {
   "cell_type": "code",
   "execution_count": null,
   "metadata": {},
   "outputs": [],
   "source": []
  }
 ],
 "metadata": {
  "kernelspec": {
   "display_name": "Python 3",
   "language": "python",
   "name": "python3"
  },
  "language_info": {
   "codemirror_mode": {
    "name": "ipython",
    "version": 3
   },
   "file_extension": ".py",
   "mimetype": "text/x-python",
   "name": "python",
   "nbconvert_exporter": "python",
   "pygments_lexer": "ipython3",
   "version": "3.7.3"
  }
 },
 "nbformat": 4,
 "nbformat_minor": 2
}
